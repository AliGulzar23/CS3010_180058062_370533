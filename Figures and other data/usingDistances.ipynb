{
 "cells": [
  {
   "cell_type": "code",
   "execution_count": 1,
   "id": "ea9b4129",
   "metadata": {},
   "outputs": [
    {
     "data": {
      "text/plain": [
       "<matplotlib.dates.DateFormatter at 0x22636773280>"
      ]
     },
     "execution_count": 1,
     "metadata": {},
     "output_type": "execute_result"
    }
   ],
   "source": [
    "import pandas as pd\n",
    "import numpy as np\n",
    "import matplotlib.pyplot as plt\n",
    "from matplotlib.pyplot import figure\n",
    "from datetime import datetime\n",
    "from scipy.signal import savgol_filter\n",
    "import seaborn as sns\n",
    "from tsmoothie.smoother import *\n",
    "from matplotlib.widgets import CheckButtons, Slider, Button\n",
    "import matplotlib.dates as dates \n",
    "dates.DateFormatter('%Y-%m-%d %H:%M:%S')"
   ]
  },
  {
   "cell_type": "code",
   "execution_count": 2,
   "id": "a889dd16",
   "metadata": {},
   "outputs": [],
   "source": [
    "#Create dataframe \n",
    "df = pd.read_csv('dist.csv')\n",
    "df = df.apply(lambda x : pd.Series(x.dropna().values))\n",
    "df = df.dropna()\n"
   ]
  },
  {
   "cell_type": "code",
   "execution_count": 3,
   "id": "6a54bc6d",
   "metadata": {},
   "outputs": [
    {
     "name": "stderr",
     "output_type": "stream",
     "text": [
      "C:\\Users\\gulza\\AppData\\Local\\Temp\\ipykernel_10032\\2238945257.py:2: DeprecationWarning: Importing display from IPython.core.display is deprecated since IPython 7.14, please import from IPython display\n",
      "  from IPython.core.display import display, HTML\n"
     ]
    },
    {
     "data": {
      "text/html": [
       "<style>.container { width:100% !important; }</style>"
      ],
      "text/plain": [
       "<IPython.core.display.HTML object>"
      ]
     },
     "metadata": {},
     "output_type": "display_data"
    }
   ],
   "source": [
    "\n",
    "\n",
    "def setUltrawide():\n",
    "    from IPython.core.display import display, HTML\n",
    "    display(HTML(\"<style>.container { width:100% !important; }</style>\"))\n",
    "setUltrawide()\n"
   ]
  },
  {
   "cell_type": "code",
   "execution_count": null,
   "id": "893cbdeb",
   "metadata": {},
   "outputs": [],
   "source": []
  },
  {
   "cell_type": "code",
   "execution_count": 4,
   "id": "522995d8",
   "metadata": {},
   "outputs": [],
   "source": [
    "# plotting functions\n",
    "def plot(data,name,alpha):\n",
    " \n",
    "    l1, = ax.plot(t,data,label = name, alpha = alpha)\n",
    "    return l1\n",
    "\n",
    "#returns list of gaussian smoothing\n",
    "def gaussianSmooth(data):\n",
    "    smoother = GaussianSmoother(n_knots = 20, sigma = 0.07)\n",
    "    smoother.smooth(data)\n",
    "    return smoother.smooth_data[0]\n",
    "\n",
    "#returns list of rate of change\n",
    "def rate_of_change(data,window):\n",
    "    count = 1\n",
    "    grad = []\n",
    "    for x in data:\n",
    "        if(count+window<len(data)):\n",
    "            dy = data[count+window] - x\n",
    "            dx = t[count+window] - t[count]\n",
    "        count +=1\n",
    "        grad.append(dy)\n",
    "    return grad\n"
   ]
  },
  {
   "cell_type": "code",
   "execution_count": 5,
   "id": "eb3295ef",
   "metadata": {},
   "outputs": [],
   "source": [
    "#for lowess function cause it takes ages\n",
    "#smoother = LowessSmoother(smooth_fraction=0.05)\n",
    "#smoother.smooth(circumference)\n"
   ]
  },
  {
   "cell_type": "code",
   "execution_count": 6,
   "id": "33529a38",
   "metadata": {},
   "outputs": [],
   "source": [
    "def func(label):\n",
    "    index = labels.index(label)\n",
    "    lines[index].set_visible(not lines[index].get_visible())\n",
    "    ax.draw()"
   ]
  },
  {
   "cell_type": "code",
   "execution_count": null,
   "id": "af381f0e",
   "metadata": {},
   "outputs": [],
   "source": []
  },
  {
   "cell_type": "code",
   "execution_count": null,
   "id": "864bfb7d",
   "metadata": {},
   "outputs": [],
   "source": []
  },
  {
   "cell_type": "code",
   "execution_count": null,
   "id": "85f4b4c7",
   "metadata": {},
   "outputs": [],
   "source": []
  },
  {
   "cell_type": "code",
   "execution_count": 13,
   "id": "421ae717",
   "metadata": {},
   "outputs": [
    {
     "ename": "TypeError",
     "evalue": "list indices must be integers or slices, not str",
     "output_type": "error",
     "traceback": [
      "\u001b[1;31m---------------------------------------------------------------------------\u001b[0m",
      "\u001b[1;31mTypeError\u001b[0m                                 Traceback (most recent call last)",
      "Input \u001b[1;32mIn [13]\u001b[0m, in \u001b[0;36m<cell line: 8>\u001b[1;34m()\u001b[0m\n\u001b[0;32m      6\u001b[0m t \u001b[38;5;241m=\u001b[39m []\n\u001b[0;32m      7\u001b[0m fraction \u001b[38;5;241m=\u001b[39m \u001b[38;5;241m0.15\u001b[39m\n\u001b[1;32m----> 8\u001b[0m \u001b[38;5;28;01mfor\u001b[39;00m x \u001b[38;5;129;01min\u001b[39;00m \u001b[38;5;28mrange\u001b[39m(\u001b[38;5;28mlen\u001b[39m(\u001b[43mdf\u001b[49m\u001b[43m[\u001b[49m\u001b[38;5;124;43m'\u001b[39;49m\u001b[38;5;124;43msample_date\u001b[39;49m\u001b[38;5;124;43m'\u001b[39;49m\u001b[43m]\u001b[49m)):\n\u001b[0;32m      9\u001b[0m     t\u001b[38;5;241m.\u001b[39mappend(pd\u001b[38;5;241m.\u001b[39mto_datetime((df[\u001b[38;5;124m'\u001b[39m\u001b[38;5;124msample_date\u001b[39m\u001b[38;5;124m'\u001b[39m][x]\u001b[38;5;241m.\u001b[39msplit(\u001b[38;5;124m'\u001b[39m\u001b[38;5;124m/\u001b[39m\u001b[38;5;124m'\u001b[39m)[\u001b[38;5;241m2\u001b[39m]\u001b[38;5;241m+\u001b[39mdf[\u001b[38;5;124m'\u001b[39m\u001b[38;5;124msample_date\u001b[39m\u001b[38;5;124m'\u001b[39m][x]\u001b[38;5;241m.\u001b[39msplit(\u001b[38;5;124m'\u001b[39m\u001b[38;5;124m/\u001b[39m\u001b[38;5;124m'\u001b[39m)[\u001b[38;5;241m1\u001b[39m]\u001b[38;5;241m+\u001b[39mdf[\u001b[38;5;124m'\u001b[39m\u001b[38;5;124msample_date\u001b[39m\u001b[38;5;124m'\u001b[39m][x]\u001b[38;5;241m.\u001b[39msplit(\u001b[38;5;124m'\u001b[39m\u001b[38;5;124m/\u001b[39m\u001b[38;5;124m'\u001b[39m)[\u001b[38;5;241m0\u001b[39m]\u001b[38;5;241m+\u001b[39m\u001b[38;5;124m'\u001b[39m\u001b[38;5;124m \u001b[39m\u001b[38;5;124m'\u001b[39m\u001b[38;5;241m+\u001b[39mdf[\u001b[38;5;124m'\u001b[39m\u001b[38;5;124msample_time\u001b[39m\u001b[38;5;124m'\u001b[39m][x])))\n\u001b[0;32m     10\u001b[0m \u001b[38;5;66;03m#df.style.format({\"DOB\": lambda t: t.strftime(\"%Y-%m-%d\")}) \u001b[39;00m\n",
      "\u001b[1;31mTypeError\u001b[0m: list indices must be integers or slices, not str"
     ]
    },
    {
     "data": {
      "application/vnd.jupyter.widget-view+json": {
       "model_id": "ecb8844cd16d40da8d14452d72f8ef74",
       "version_major": 2,
       "version_minor": 0
      },
      "text/html": [
       "\n",
       "            <div style=\"display: inline-block;\">\n",
       "                <div class=\"jupyter-widgets widget-label\" style=\"text-align: center;\">\n",
       "                    Figure\n",
       "                </div>\n",
       "                <img src='data:image/png;base64,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' width=1000.0/>\n",
       "            </div>\n",
       "        "
      ],
      "text/plain": [
       "Canvas(toolbar=Toolbar(toolitems=[('Home', 'Reset original view', 'home', 'home'), ('Back', 'Back to previous …"
      ]
     },
     "metadata": {},
     "output_type": "display_data"
    }
   ],
   "source": [
    "# Create axis\n",
    "%matplotlib widget\n",
    "\n",
    "fig, ax = plt.subplots(figsize = (10,5))\n",
    "\n",
    "t = []\n",
    "fraction = 0.15\n",
    "for x in range(len(df['sample_date'])):\n",
    "    t.append(pd.to_datetime((df['sample_date'][x].split('/')[2]+df['sample_date'][x].split('/')[1]+df['sample_date'][x].split('/')[0]+' '+df['sample_time'][x])))\n",
    "#df.style.format({\"DOB\": lambda t: t.strftime(\"%Y-%m-%d\")}) \n",
    "df['datetime'] = t\n",
    "#df['DateStrings'] = df['datetime'].dt.strftime('%Y-%m-%d %H:%M:%S')\n",
    "#t = df['DateStrings']\n",
    "lines = []\n",
    "#lowessArray = pd.read_csv('lowess')\n",
    "#smoothing was pre done but takes a girllion seconds to load\n",
    "#lowess = np.array(lowessArray['0'])\n",
    "\n",
    "lowessArray = LowessSmoother(smooth_fraction = 0.05)\n",
    "lowessArray.smooth(df['dist'])\n",
    "lowess = lowessArray.smooth_data[0]\n",
    "\n",
    "circumference = df['dist']\n",
    "#subtract mean\n",
    "lines.append(plot(circumference ,'Circumference',0.3))\n",
    "\n",
    "\n",
    "#subtract mean\n",
    "lowessSmooth = plot(lowess,'Lowess Smooth',1)\n",
    "lines.append(lowessSmooth)\n",
    "lines.append(plot(df['sensor_2']/10,'Sen2',1))\n",
    "lines.append(plot(np.gradient(lowess)*300,'Lowess gradient',1))\n",
    "plt.legend()\n",
    "ax.plot(t,np.zeros(len(df.index)), color = 'black')\n",
    "rax = plt.axes([0.05, 0.4, 0.1, 0.15])\n",
    "labels = [str(line.get_label()) for line in lines]\n",
    "visibility = [line.get_visible() for line in lines]\n",
    "check = CheckButtons(rax, labels, visibility)\n",
    "check.on_clicked(func)\n"
   ]
  },
  {
   "cell_type": "code",
   "execution_count": 12,
   "id": "04e9515c",
   "metadata": {},
   "outputs": [
    {
     "ename": "TypeError",
     "evalue": "list indices must be integers or slices, not str",
     "output_type": "error",
     "traceback": [
      "\u001b[1;31m---------------------------------------------------------------------------\u001b[0m",
      "\u001b[1;31mTypeError\u001b[0m                                 Traceback (most recent call last)",
      "Input \u001b[1;32mIn [12]\u001b[0m, in \u001b[0;36m<cell line: 5>\u001b[1;34m()\u001b[0m\n\u001b[0;32m      3\u001b[0m maxValue \u001b[38;5;241m=\u001b[39m \u001b[38;5;241m950\u001b[39m\n\u001b[0;32m      4\u001b[0m noiseLevel \u001b[38;5;241m=\u001b[39m \u001b[38;5;241m550\u001b[39m\n\u001b[1;32m----> 5\u001b[0m sen2 \u001b[38;5;241m=\u001b[39m df[(\u001b[38;5;28mabs\u001b[39m(\u001b[43mdf\u001b[49m\u001b[43m[\u001b[49m\u001b[38;5;124;43m'\u001b[39;49m\u001b[38;5;124;43msensor_1\u001b[39;49m\u001b[38;5;124;43m'\u001b[39;49m\u001b[43m]\u001b[49m\u001b[38;5;241m-\u001b[39mdf[\u001b[38;5;124m'\u001b[39m\u001b[38;5;124msensor_3\u001b[39m\u001b[38;5;124m'\u001b[39m])\u001b[38;5;241m<\u001b[39mdiffThreshold) \u001b[38;5;241m&\u001b[39m (df[\u001b[38;5;124m'\u001b[39m\u001b[38;5;124msensor_2\u001b[39m\u001b[38;5;124m'\u001b[39m]\u001b[38;5;241m>\u001b[39mmaxValue) \u001b[38;5;241m&\u001b[39m (df[\u001b[38;5;124m'\u001b[39m\u001b[38;5;124msensor_1\u001b[39m\u001b[38;5;124m'\u001b[39m]\u001b[38;5;241m>\u001b[39m\u001b[38;5;241m530\u001b[39m)]\n\u001b[0;32m      7\u001b[0m sen3 \u001b[38;5;241m=\u001b[39m df[(\u001b[38;5;28mabs\u001b[39m(df[\u001b[38;5;124m'\u001b[39m\u001b[38;5;124msensor_2\u001b[39m\u001b[38;5;124m'\u001b[39m]\u001b[38;5;241m-\u001b[39mdf[\u001b[38;5;124m'\u001b[39m\u001b[38;5;124msensor_4\u001b[39m\u001b[38;5;124m'\u001b[39m])\u001b[38;5;241m<\u001b[39mdiffThreshold) \u001b[38;5;241m&\u001b[39m (df[\u001b[38;5;124m'\u001b[39m\u001b[38;5;124msensor_3\u001b[39m\u001b[38;5;124m'\u001b[39m]\u001b[38;5;241m>\u001b[39mmaxValue)\u001b[38;5;241m&\u001b[39m(df[\u001b[38;5;124m'\u001b[39m\u001b[38;5;124msensor_2\u001b[39m\u001b[38;5;124m'\u001b[39m]\u001b[38;5;241m>\u001b[39m noiseLevel) \u001b[38;5;241m&\u001b[39m(df[\u001b[38;5;124m'\u001b[39m\u001b[38;5;124msensor_4\u001b[39m\u001b[38;5;124m'\u001b[39m]\u001b[38;5;241m>\u001b[39mnoiseLevel)] \n\u001b[0;32m      8\u001b[0m sen4 \u001b[38;5;241m=\u001b[39m df[(\u001b[38;5;28mabs\u001b[39m(df[\u001b[38;5;124m'\u001b[39m\u001b[38;5;124msensor_3\u001b[39m\u001b[38;5;124m'\u001b[39m]\u001b[38;5;241m-\u001b[39mdf[\u001b[38;5;124m'\u001b[39m\u001b[38;5;124msensor_5\u001b[39m\u001b[38;5;124m'\u001b[39m])\u001b[38;5;241m<\u001b[39mdiffThreshold) \u001b[38;5;241m&\u001b[39m (df[\u001b[38;5;124m'\u001b[39m\u001b[38;5;124msensor_4\u001b[39m\u001b[38;5;124m'\u001b[39m]\u001b[38;5;241m>\u001b[39mmaxValue)\u001b[38;5;241m&\u001b[39m(df[\u001b[38;5;124m'\u001b[39m\u001b[38;5;124msensor_3\u001b[39m\u001b[38;5;124m'\u001b[39m]\u001b[38;5;241m>\u001b[39mnoiseLevel)\u001b[38;5;241m&\u001b[39m(df[\u001b[38;5;124m'\u001b[39m\u001b[38;5;124msensor_5\u001b[39m\u001b[38;5;124m'\u001b[39m]\u001b[38;5;241m>\u001b[39mnoiseLevel)]\n",
      "\u001b[1;31mTypeError\u001b[0m: list indices must be integers or slices, not str"
     ]
    }
   ],
   "source": [
    "indexes = []\n",
    "diffThreshold = 50\n",
    "maxValue = 950\n",
    "noiseLevel = 550\n",
    "sen2 = df[(abs(df['sensor_1']-df['sensor_3'])<diffThreshold) & (df['sensor_2']>maxValue) & (df['sensor_1']>530)]\n",
    "\n",
    "sen3 = df[(abs(df['sensor_2']-df['sensor_4'])<diffThreshold) & (df['sensor_3']>maxValue)&(df['sensor_2']> noiseLevel) &(df['sensor_4']>noiseLevel)] \n",
    "sen4 = df[(abs(df['sensor_3']-df['sensor_5'])<diffThreshold) & (df['sensor_4']>maxValue)&(df['sensor_3']>noiseLevel)&(df['sensor_5']>noiseLevel)]\n",
    "sen5 = df[(abs(df['sensor_4']-df['sensor_6'])<diffThreshold) & (df['sensor_5']>maxValue)& (df['sensor_4']>noiseLevel)&(df['sensor_6']>noiseLevel)]\n",
    "sen6 = df[(abs(df['sensor_5']-df['sensor_7'])<diffThreshold) & (df['sensor_6']>maxValue)& (df['sensor_5']>noiseLevel)&(df['sensor_7']>noiseLevel)]\n",
    "sen7 = df[(abs(df['sensor_6']-df['sensor_8'])<diffThreshold) & (df['sensor_7']>maxValue)&(df['sensor_6']>noiseLevel)&(df['sensor_8']>noiseLevel)]\n",
    "for x in sen2.index: indexes.append(x)\n",
    "for x in sen3.index: indexes.append(x)\n",
    "for x in sen4.index: indexes.append(x)\n",
    "for x in sen5.index: indexes.append(x)\n",
    "for x in sen6.index: indexes.append(x)\n",
    "for x in sen7.index: indexes.append(x)\n",
    "indexes.sort()\n",
    "print(len(indexes))\n",
    "data = df.iloc[indexes]\n",
    "ax.plot(data.index,data['dist'],label = 'correct')\n",
    "fig1,ax1 = plt.subplots()\n",
    "ax1.scatter(data['datetime'],data['dist'])\n",
    "ax1.plot(t,lowess)\n",
    "\n",
    "\n",
    "#incorrect Values\n",
    "indexes = []\n",
    "sen2 = df[(abs(df['sensor_1']-df['sensor_3'])<diffThreshold) & (df['sensor_2']<maxValue) & (df['sensor_1']>noiseLevel)]\n",
    "\n",
    "sen3 = df[(abs(df['sensor_2']-df['sensor_4'])<diffThreshold) & (df['sensor_3']<maxValue)&(df['sensor_2']> noiseLevel) ] \n",
    "sen4 = df[(abs(df['sensor_3']-df['sensor_5'])<diffThreshold) & (df['sensor_4']<maxValue)&(df['sensor_3']>noiseLevel)]\n",
    "sen5 = df[(abs(df['sensor_4']-df['sensor_6'])<diffThreshold) & (df['sensor_5']<maxValue)& (df['sensor_4']>noiseLevel)]\n",
    "sen6 = df[(abs(df['sensor_5']-df['sensor_7'])<diffThreshold) & (df['sensor_6']<maxValue)& (df['sensor_5']>noiseLevel)]\n",
    "sen7 = df[(abs(df['sensor_6']-df['sensor_8'])<diffThreshold) & (df['sensor_7']<maxValue)&(df['sensor_6']>noiseLevel)]\n",
    "for x in sen2.index: indexes.append(x)\n",
    "for x in sen3.index: indexes.append(x)\n",
    "for x in sen4.index: indexes.append(x)\n",
    "for x in sen5.index: indexes.append(x)\n",
    "for x in sen6.index: indexes.append(x)\n",
    "for x in sen7.index: indexes.append(x)\n",
    "indexes.sort()\n",
    "print(len(indexes))\n",
    "data = df.iloc[indexes]\n",
    "ax.plot(data.index,data['dist'],label = 'correct')\n",
    "#ax1.scatter(data['datetime'],data['dist'],color = 'red', alpha = 0.3)\n",
    "\n",
    "\n",
    "\n",
    "#when bracelet is off\n",
    "indexes = []\n",
    "offValues = df[(df['sensor_1']> 600) & (df['sensor_2'] == 1020) & (df['sensor_3']<600)]\n",
    "for x in offValues.index: indexes.append(x)\n",
    "indexes.sort()\n",
    "data = df.iloc[indexes]\n",
    "ax1.scatter(data['datetime'],data['dist'],color = 'red')"
   ]
  },
  {
   "cell_type": "code",
   "execution_count": 9,
   "id": "fac19583",
   "metadata": {},
   "outputs": [
    {
     "data": {
      "text/html": [
       "<div>\n",
       "<style scoped>\n",
       "    .dataframe tbody tr th:only-of-type {\n",
       "        vertical-align: middle;\n",
       "    }\n",
       "\n",
       "    .dataframe tbody tr th {\n",
       "        vertical-align: top;\n",
       "    }\n",
       "\n",
       "    .dataframe thead th {\n",
       "        text-align: right;\n",
       "    }\n",
       "</style>\n",
       "<table border=\"1\" class=\"dataframe\">\n",
       "  <thead>\n",
       "    <tr style=\"text-align: right;\">\n",
       "      <th></th>\n",
       "      <th>sensor_1</th>\n",
       "      <th>sensor_2</th>\n",
       "      <th>sensor_3</th>\n",
       "      <th>sensor_4</th>\n",
       "      <th>sensor_5</th>\n",
       "      <th>sensor_6</th>\n",
       "      <th>sensor_7</th>\n",
       "      <th>sensor_8</th>\n",
       "      <th>sample_date</th>\n",
       "      <th>sample_time</th>\n",
       "      <th>dist</th>\n",
       "      <th>datetime</th>\n",
       "    </tr>\n",
       "  </thead>\n",
       "  <tbody>\n",
       "    <tr>\n",
       "      <th>0</th>\n",
       "      <td>683</td>\n",
       "      <td>1020</td>\n",
       "      <td>545</td>\n",
       "      <td>502</td>\n",
       "      <td>503</td>\n",
       "      <td>506</td>\n",
       "      <td>507</td>\n",
       "      <td>506</td>\n",
       "      <td>03/12/2021</td>\n",
       "      <td>16:07:13</td>\n",
       "      <td>0.0425</td>\n",
       "      <td>2021-12-03 16:07:13</td>\n",
       "    </tr>\n",
       "    <tr>\n",
       "      <th>1</th>\n",
       "      <td>683</td>\n",
       "      <td>1020</td>\n",
       "      <td>545</td>\n",
       "      <td>502</td>\n",
       "      <td>503</td>\n",
       "      <td>506</td>\n",
       "      <td>507</td>\n",
       "      <td>506</td>\n",
       "      <td>03/12/2021</td>\n",
       "      <td>16:07:14</td>\n",
       "      <td>0.0425</td>\n",
       "      <td>2021-12-03 16:07:14</td>\n",
       "    </tr>\n",
       "    <tr>\n",
       "      <th>2</th>\n",
       "      <td>683</td>\n",
       "      <td>1020</td>\n",
       "      <td>545</td>\n",
       "      <td>502</td>\n",
       "      <td>503</td>\n",
       "      <td>506</td>\n",
       "      <td>507</td>\n",
       "      <td>506</td>\n",
       "      <td>03/12/2021</td>\n",
       "      <td>16:07:16</td>\n",
       "      <td>0.0425</td>\n",
       "      <td>2021-12-03 16:07:16</td>\n",
       "    </tr>\n",
       "    <tr>\n",
       "      <th>3</th>\n",
       "      <td>683</td>\n",
       "      <td>1020</td>\n",
       "      <td>545</td>\n",
       "      <td>502</td>\n",
       "      <td>503</td>\n",
       "      <td>506</td>\n",
       "      <td>507</td>\n",
       "      <td>506</td>\n",
       "      <td>03/12/2021</td>\n",
       "      <td>16:07:17</td>\n",
       "      <td>0.0425</td>\n",
       "      <td>2021-12-03 16:07:17</td>\n",
       "    </tr>\n",
       "    <tr>\n",
       "      <th>4</th>\n",
       "      <td>683</td>\n",
       "      <td>1020</td>\n",
       "      <td>545</td>\n",
       "      <td>502</td>\n",
       "      <td>503</td>\n",
       "      <td>506</td>\n",
       "      <td>507</td>\n",
       "      <td>506</td>\n",
       "      <td>03/12/2021</td>\n",
       "      <td>16:07:19</td>\n",
       "      <td>0.0425</td>\n",
       "      <td>2021-12-03 16:07:19</td>\n",
       "    </tr>\n",
       "  </tbody>\n",
       "</table>\n",
       "</div>"
      ],
      "text/plain": [
       "   sensor_1  sensor_2  sensor_3  sensor_4  sensor_5  sensor_6  sensor_7  \\\n",
       "0       683      1020       545       502       503       506       507   \n",
       "1       683      1020       545       502       503       506       507   \n",
       "2       683      1020       545       502       503       506       507   \n",
       "3       683      1020       545       502       503       506       507   \n",
       "4       683      1020       545       502       503       506       507   \n",
       "\n",
       "   sensor_8 sample_date sample_time    dist            datetime  \n",
       "0       506  03/12/2021    16:07:13  0.0425 2021-12-03 16:07:13  \n",
       "1       506  03/12/2021    16:07:14  0.0425 2021-12-03 16:07:14  \n",
       "2       506  03/12/2021    16:07:16  0.0425 2021-12-03 16:07:16  \n",
       "3       506  03/12/2021    16:07:17  0.0425 2021-12-03 16:07:17  \n",
       "4       506  03/12/2021    16:07:19  0.0425 2021-12-03 16:07:19  "
      ]
     },
     "execution_count": 9,
     "metadata": {},
     "output_type": "execute_result"
    }
   ],
   "source": [
    "data.head()"
   ]
  },
  {
   "cell_type": "code",
   "execution_count": 10,
   "id": "5535513e",
   "metadata": {},
   "outputs": [
    {
     "name": "stdout",
     "output_type": "stream",
     "text": [
      "4587\n",
      "0\n",
      "25.709001233045623\n",
      "0.0\n"
     ]
    },
    {
     "data": {
      "application/vnd.jupyter.widget-view+json": {
       "model_id": "350de0311ccc42a6a3ee33694f472a6f",
       "version_major": 2,
       "version_minor": 0
      },
      "text/html": [
       "\n",
       "            <div style=\"display: inline-block;\">\n",
       "                <div class=\"jupyter-widgets widget-label\" style=\"text-align: center;\">\n",
       "                    Figure\n",
       "                </div>\n",
       "                <img src='data:image/png;base64,iVBORw0KGgoAAAANSUhEUgAAAoAAAAHgCAYAAAA10dzkAAAAOXRFWHRTb2Z0d2FyZQBNYXRwbG90bGliIHZlcnNpb24zLjMuNCwgaHR0cHM6Ly9tYXRwbG90bGliLm9yZy8QVMy6AAAACXBIWXMAAA9hAAAPYQGoP6dpAAAen0lEQVR4nO3df2zV9b348VehtFXvbRdhVhBksKsbG7nuUgKjXrLMqzVoXLjZjSzeiHo1WbPtIvS6Oxg3OsiSZruZuXMT3CZolqCX4K94k15H/7gXQbg/6C3LMkhchGthtpJibFG3IvD5/uGXfr9diwLSUzyvxyM5f5y3nw99nbytnyef0x4riqIoAgCANMaN9QAAAJSWAAQASEYAAgAkIwABAJIRgAAAyQhAAIBkBCAAQDICEAAgGQEIAJCMAAQASEYAAgAkIwABAJIRgAAAyQhAAIBkBCAAQDICEAAgGQEIAJCMAAQASEYAAgAkIwABAJIRgAAAyQhAAIBkBCAAQDICEAAgGQEIAJCMAAQASEYAAgAkIwABAJIRgAAAyQhAAIBkBCAAQDICEAAgGQEIAJCMAAQASEYAAgAkIwABAJIRgAAAyQhAAIBkBCAAQDICEAAgGQEIAJCMAAQASEYAAgAkIwABAJIRgAAAyQhAAIBkBCAAQDICEAAgGQEIAJCMAAQASEYAAgAkIwABAJIpmwB88cUX45ZbbokpU6ZERUVFPPfccx94zrZt26KhoSFqampi5syZ8cgjj4z+oAAAY6xsAvDtt9+Oa665Jn784x+f0fEHDhyIm266KRYuXBidnZ3x7W9/O5YtWxZPP/30KE8KADC2KoqiKMZ6iPOtoqIinn322Vi8ePFpj/nWt74Vzz//fOzbt29wrbm5OX75y1/Grl27SjAlAMDYKJs7gGdr165d0dTUNGTtxhtvjN27d8e77747RlMBAIy+yrEeYKz09PREfX39kLX6+vo4fvx49Pb2xuTJk4edMzAwEAMDA4PPT548GW+88UZMnDgxKioqRn1mAODDK4oijh49GlOmTIlx43LeC0sbgBExLNpOvRt+uphrbW2NNWvWjPpcAMDoO3jwYEydOnWsxxgTaQPw8ssvj56eniFrhw8fjsrKypg4ceKI56xatSpaWloGn/f19cWVV14ZBw8ejNra2lGdFwA4P/r7+2PatGnxx3/8x2M9yphJG4ALFiyIf/mXfxmytnXr1pg7d25MmDBhxHOqq6ujurp62Hptba0ABICPmMw/vlU2b3y/9dZbsWfPntizZ09EvPcxL3v27Imurq6IeO/u3dKlSwePb25ujldffTVaWlpi3759sXHjxtiwYUPcd999YzE+AEDJlM0dwN27d8cXv/jFween3qq944474vHHH4/u7u7BGIyImDFjRrS1tcWKFSvi4YcfjilTpsRDDz0UX/7yl0s+OwBAKZXl5wCWSn9/f9TV1UVfX5+3gAHgI8L1u4zeAgYA4MwIQACAZAQgAEAyAhAAIBkBCACQjAAEAEhGAAIAJCMAAQCSEYAAAMkIQACAZAQgAEAyAhAAIBkBCACQjAAEAEhGAAIAJCMAAQCSEYAAAMkIQACAZAQgAEAyAhAAIBkBCACQjAAEAEhGAAIAJCMAAQCSEYAAAMkIQACAZAQgAEAyAhAAIBkBCACQjAAEAEhGAAIAJCMAAQCSEYAAAMkIQACAZAQgAEAyAhAAIBkBCACQjAAEAEhGAAIAJCMAAQCSEYAAAMkIQACAZAQgAEAyAhAAIBkBCACQjAAEAEhGAAIAJCMAAQCSEYAAAMkIQACAZAQgAEAyAhAAIBkBCACQjAAEAEhGAAIAJCMAAQCSEYAAAMkIQACAZAQgAEAyAhAAIBkBCACQjAAEAEhGAAIAJFNWAbhu3bqYMWNG1NTURENDQ2zfvv19j9+0aVNcc801cfHFF8fkyZPjrrvuiiNHjpRoWgCAsVE2Abh58+ZYvnx5rF69Ojo7O2PhwoWxaNGi6OrqGvH4HTt2xNKlS+Puu++OX//617Fly5b47//+77jnnntKPDkAQGmVTQA++OCDcffdd8c999wTs2bNin/6p3+KadOmxfr160c8/j/+4z/iE5/4RCxbtixmzJgRf/7nfx5f/epXY/fu3SWeHACgtMoiAI8dOxYdHR3R1NQ0ZL2pqSl27tw54jmNjY1x6NChaGtri6Io4vXXX4+nnnoqbr755lKMDAAwZsoiAHt7e+PEiRNRX18/ZL2+vj56enpGPKexsTE2bdoUS5Ysiaqqqrj88svjYx/7WPzoRz867dcZGBiI/v7+IQ8AgI+asgjAUyoqKoY8L4pi2Nope/fujWXLlsX9998fHR0d8cILL8SBAweiubn5tH9+a2tr1NXVDT6mTZt2XucHACiFiqIoirEe4sM6duxYXHzxxbFly5b4y7/8y8H1e++9N/bs2RPbtm0bds7tt98ev//972PLli2Dazt27IiFCxfGa6+9FpMnTx52zsDAQAwMDAw+7+/vj2nTpkVfX1/U1tae51cFAIyG/v7+qKurS339Los7gFVVVdHQ0BDt7e1D1tvb26OxsXHEc955550YN27oyx8/fnxEvHfncCTV1dVRW1s75AEA8FFTFgEYEdHS0hKPPvpobNy4Mfbt2xcrVqyIrq6uwbd0V61aFUuXLh08/pZbbolnnnkm1q9fH/v374+XXnopli1bFvPmzYspU6aM1csAABh1lWM9wPmyZMmSOHLkSKxduza6u7tj9uzZ0dbWFtOnT4+IiO7u7iGfCXjnnXfG0aNH48c//nH83d/9XXzsYx+L6667Lr73ve+N1UsAACiJsvgZwLHiZwgA4KPH9buM3gIGAODMCEAAgGQEIABAMgIQACAZAQgAkIwABABIRgACACQjAAEAkhGAAADJCEAAgGQEIABAMgIQACAZAQgAkIwABABIRgACACQjAAEAkhGAAADJCEAAgGQEIABAMgIQACAZAQgAkIwABABIRgACACQjAAEAkhGAAADJCEAAgGQEIABAMgIQACAZAQgAkIwABABIRgACACQjAAEAkhGAAADJCEAAgGQEIABAMgIQACAZAQgAkIwABABIRgACACQjAAEAkhGAAADJCEAAgGQEIABAMgIQACAZAQgAkIwABABIRgACACQjAAEAkhGAAADJCEAAgGQEIABAMgIQACAZAQgAkIwABABIRgACACQjAAEAkhGAAADJCEAAgGQEIABAMgIQACAZAQgAkIwABABIRgACACRTVgG4bt26mDFjRtTU1ERDQ0Ns3779fY8fGBiI1atXx/Tp06O6ujo++clPxsaNG0s0LQDA2Kgc6wHOl82bN8fy5ctj3bp1ce2118ZPfvKTWLRoUezduzeuvPLKEc+59dZb4/XXX48NGzbEn/zJn8Thw4fj+PHjJZ4cAKC0KoqiKMZ6iPNh/vz5MWfOnFi/fv3g2qxZs2Lx4sXR2to67PgXXnghvvKVr8T+/fvj0ksvPaev2d/fH3V1ddHX1xe1tbXnPDsAUDqu32XyFvCxY8eio6Mjmpqahqw3NTXFzp07Rzzn+eefj7lz58b3v//9uOKKK+Lqq6+O++67L373u9+d9usMDAxEf3//kAcAwEdNWbwF3NvbGydOnIj6+voh6/X19dHT0zPiOfv3748dO3ZETU1NPPvss9Hb2xtf+9rX4o033jjtzwG2trbGmjVrzvv8AAClVBZ3AE+pqKgY8rwoimFrp5w8eTIqKipi06ZNMW/evLjpppviwQcfjMcff/y0dwFXrVoVfX19g4+DBw+e99cAADDayuIO4KRJk2L8+PHD7vYdPnx42F3BUyZPnhxXXHFF1NXVDa7NmjUriqKIQ4cOxVVXXTXsnOrq6qiurj6/wwMAlFhZ3AGsqqqKhoaGaG9vH7Le3t4ejY2NI55z7bXXxmuvvRZvvfXW4NrLL78c48aNi6lTp47qvAAAY6ksAjAioqWlJR599NHYuHFj7Nu3L1asWBFdXV3R3NwcEe+9fbt06dLB42+77baYOHFi3HXXXbF379548cUX45vf/Gb8zd/8TVx00UVj9TIAAEZdWbwFHBGxZMmSOHLkSKxduza6u7tj9uzZ0dbWFtOnT4+IiO7u7ujq6ho8/o/+6I+ivb09/vZv/zbmzp0bEydOjFtvvTW++93vjtVLAAAoibL5HMCx4HOEAOCjx/W7jN4CBgDgzAhAAIBkBCAAQDICEAAgGQEIAJCMAAQASEYAAgAkIwABAJIRgAAAyQhAAIBkBCAAQDICEAAgGQEIAJCMAAQASEYAAgAkIwABAJIRgAAAyQhAAIBkBCAAQDICEAAgGQEIAJCMAAQASEYAAgAkIwABAJIRgAAAyQhAAIBkBCAAQDICEAAgGQEIAJCMAAQASEYAAgAkIwABAJIRgAAAyQhAAIBkBCAAQDICEAAgGQEIAJCMAAQASEYAAgAkIwABAJIRgAAAyQhAAIBkBCAAQDICEAAgGQEIAJCMAAQASEYAAgAkIwABAJIRgAAAyQhAAIBkBCAAQDICEAAgGQEIAJCMAAQASEYAAgAkIwABAJIRgAAAyQhAAIBkBCAAQDICEAAgGQEIAJCMAAQASEYAAgAkU1YBuG7dupgxY0bU1NREQ0NDbN++/YzOe+mll6KysjI+97nPje6AAAAXgLIJwM2bN8fy5ctj9erV0dnZGQsXLoxFixZFV1fX+57X19cXS5cujb/4i78o0aQAAGOroiiKYqyHOB/mz58fc+bMifXr1w+uzZo1KxYvXhytra2nPe8rX/lKXHXVVTF+/Ph47rnnYs+ePWf8Nfv7+6Ouri76+vqitrb2w4wPAJSI63eZ3AE8duxYdHR0RFNT05D1pqam2Llz52nPe+yxx+KVV16JBx544Iy+zsDAQPT39w95AAB81JRFAPb29saJEyeivr5+yHp9fX309PSMeM5vfvObWLlyZWzatCkqKyvP6Ou0trZGXV3d4GPatGkfenYAgFIriwA8paKiYsjzoiiGrUVEnDhxIm677bZYs2ZNXH311Wf8569atSr6+voGHwcPHvzQMwMAlNqZ3fq6wE2aNCnGjx8/7G7f4cOHh90VjIg4evRo7N69Ozo7O+Mb3/hGREScPHkyiqKIysrK2Lp1a1x33XXDzquuro7q6urReREAACVSFncAq6qqoqGhIdrb24est7e3R2Nj47Dja2tr41e/+lXs2bNn8NHc3Byf+tSnYs+ePTF//vxSjQ4AUHJlcQcwIqKlpSVuv/32mDt3bixYsCB++tOfRldXVzQ3N0fEe2/f/va3v42f//znMW7cuJg9e/aQ8y+77LKoqakZtg4AUG7KJgCXLFkSR44cibVr10Z3d3fMnj072traYvr06RER0d3d/YGfCQgAkEHZfA7gWPA5QgDw0eP6XSY/AwgAwJkTgAAAyQhAAIBkBCAAQDICEAAgGQEIAJCMAAQASEYAAgAkIwABAJIRgAAAyQhAAIBkBCAAQDICEAAgGQEIAJCMAAQASEYAAgAkIwABAJIRgAAAyQhAAIBkBCAAQDICEAAgGQEIAJCMAAQASEYAAgAkIwABAJIRgAAAyQhAAIBkBCAAQDICEAAgGQEIAJCMAAQASEYAAgAkIwABAJIRgAAAyQhAAIBkBCAAQDICEAAgGQEIAJCMAAQASEYAAgAkIwABAJIRgAAAyQhAAIBkBCAAQDICEAAgGQEIAJCMAAQASEYAAgAkIwABAJIRgAAAyQhAAIBkBCAAQDICEAAgGQEIAJCMAAQASEYAAgAkIwABAJIRgAAAyQhAAIBkBCAAQDICEAAgGQEIAJCMAAQASKasAnDdunUxY8aMqKmpiYaGhti+fftpj33mmWfihhtuiI9//ONRW1sbCxYsiF/84hclnBYAYGyUTQBu3rw5li9fHqtXr47Ozs5YuHBhLFq0KLq6ukY8/sUXX4wbbrgh2traoqOjI774xS/GLbfcEp2dnSWeHACgtCqKoijGeojzYf78+TFnzpxYv3794NqsWbNi8eLF0draekZ/xmc/+9lYsmRJ3H///Wd0fH9/f9TV1UVfX1/U1tae09wAQGm5fpfJHcBjx45FR0dHNDU1DVlvamqKnTt3ntGfcfLkyTh69Ghceumlpz1mYGAg+vv7hzwAAD5qyiIAe3t748SJE1FfXz9kvb6+Pnp6es7oz/jBD34Qb7/9dtx6662nPaa1tTXq6uoGH9OmTftQcwMAjIWyCMBTKioqhjwvimLY2kiefPLJ+M53vhObN2+Oyy677LTHrVq1Kvr6+gYfBw8e/NAzAwCUWuVYD3A+TJo0KcaPHz/sbt/hw4eH3RX8Q5s3b4677747tmzZEtdff/37HltdXR3V1dUfel4AgLFUFncAq6qqoqGhIdrb24est7e3R2Nj42nPe/LJJ+POO++MJ554Im6++ebRHhMA4IJQFncAIyJaWlri9ttvj7lz58aCBQvipz/9aXR1dUVzc3NEvPf27W9/+9v4+c9/HhHvxd/SpUvjhz/8YXz+858fvHt40UUXRV1d3Zi9DgCA0VY2AbhkyZI4cuRIrF27Nrq7u2P27NnR1tYW06dPj4iI7u7uIZ8J+JOf/CSOHz8eX//61+PrX//64Podd9wRjz/+eKnHBwAombL5HMCx4HOEAOCjx/W7TH4GEACAMycAAQCSEYAAAMkIQACAZAQgAEAyAhAAIBkBCACQjAAEAEhGAAIAJCMAAQCSEYAAAMkIQACAZAQgAEAyAhAAIBkBCACQjAAEAEhGAAIAJCMAAQCSEYAAAMkIQACAZAQgAEAyAhAAIBkBCACQjAAEAEhGAAIAJCMAAQCSEYAAAMkIQACAZAQgAEAyAhAAIBkBCACQjAAEAEhGAAIAJCMAAQCSEYAAAMkIQACAZAQgAEAyAhAAIBkBCACQjAAEAEhGAAIAJCMAAQCSEYAAAMkIQACAZAQgAEAyAhAAIBkBCACQjAAEAEhGAAIAJCMAAQCSEYAAAMkIQACAZAQgAEAyAhAAIBkBCACQjAAEAEhGAAIAJCMAAQCSEYAAAMkIQACAZAQgAEAyAhAAIBkBCACQTFkF4Lp162LGjBlRU1MTDQ0NsX379vc9ftu2bdHQ0BA1NTUxc+bMeOSRR0o0KQDA2CmbANy8eXMsX748Vq9eHZ2dnbFw4cJYtGhRdHV1jXj8gQMH4qabboqFCxdGZ2dnfPvb345ly5bF008/XeLJAQBKq6IoimKshzgf5s+fH3PmzIn169cPrs2aNSsWL14cra2tw47/1re+Fc8//3zs27dvcK25uTl++ctfxq5du87oa/b390ddXV309fVFbW3th38RAMCoc/2OqBzrAc6HY8eORUdHR6xcuXLIelNTU+zcuXPEc3bt2hVNTU1D1m688cbYsGFDvPvuuzFhwoRh5wwMDMTAwMDg876+voh4718kAOCj4dR1u0zugZ2TsgjA3t7eOHHiRNTX1w9Zr6+vj56enhHP6enpGfH448ePR29vb0yePHnYOa2trbFmzZph69OmTfsQ0wMAY+HIkSNRV1c31mOMibIIwFMqKiqGPC+KYtjaBx0/0vopq1atipaWlsHnb775ZkyfPj26urrS/gt0oejv749p06bFwYMH097Ov1DYiwuL/bhw2IsLR19fX1x55ZVx6aWXjvUoY6YsAnDSpEkxfvz4YXf7Dh8+POwu3ymXX375iMdXVlbGxIkTRzynuro6qqurh63X1dX5Zr5A1NbW2osLhL24sNiPC4e9uHCMG1c2vwt71srilVdVVUVDQ0O0t7cPWW9vb4/GxsYRz1mwYMGw47du3Rpz584d8ef/AADKRVkEYERES0tLPProo7Fx48bYt29frFixIrq6uqK5uTki3nv7dunSpYPHNzc3x6uvvhotLS2xb9++2LhxY2zYsCHuu+++sXoJAAAlURZvAUdELFmyJI4cORJr166N7u7umD17drS1tcX06dMjIqK7u3vIZwLOmDEj2traYsWKFfHwww/HlClT4qGHHoovf/nLZ/w1q6ur44EHHhjxbWFKy15cOOzFhcV+XDjsxYXDXpTR5wACAHBmyuYtYAAAzowABABIRgACACQjAAEAkhGAH2DdunUxY8aMqKmpiYaGhti+ffv7Hr9t27ZoaGiImpqamDlzZjzyyCMlmrT8nc1ePPPMM3HDDTfExz/+8aitrY0FCxbEL37xixJOW97O9vvilJdeeikqKyvjc5/73OgOmMjZ7sXAwECsXr06pk+fHtXV1fHJT34yNm7cWKJpy9/Z7semTZvimmuuiYsvvjgmT54cd911Vxw5cqRE05anF198MW655ZaYMmVKVFRUxHPPPfeB56S8dhec1j//8z8XEyZMKH72s58Ve/fuLe69997ikksuKV599dURj9+/f39x8cUXF/fee2+xd+/e4mc/+1kxYcKE4qmnnirx5OXnbPfi3nvvLb73ve8V//Vf/1W8/PLLxapVq4oJEyYU//M//1PiycvP2e7FKW+++WYxc+bMoqmpqbjmmmtKM2yZO5e9+NKXvlTMnz+/aG9vLw4cOFD853/+Z/HSSy+VcOrydbb7sX379mLcuHHFD3/4w2L//v3F9u3bi89+9rPF4sWLSzx5eWlraytWr15dPP3000VEFM8+++z7Hp/12i0A38e8efOK5ubmIWuf/vSni5UrV454/N///d8Xn/70p4esffWrXy0+//nPj9qMWZztXozkM5/5TLFmzZrzPVo657oXS5YsKf7hH/6heOCBBwTgeXK2e/Gv//qvRV1dXXHkyJFSjJfO2e7HP/7jPxYzZ84csvbQQw8VU6dOHbUZszmTAMx67fYW8GkcO3YsOjo6oqmpach6U1NT7Ny5c8Rzdu3aNez4G2+8MXbv3h3vvvvuqM1a7s5lL/7QyZMn4+jRo6n/x9/nw7nuxWOPPRavvPJKPPDAA6M9YhrnshfPP/98zJ07N77//e/HFVdcEVdffXXcd9998bvf/a4UI5e1c9mPxsbGOHToULS1tUVRFPH666/HU089FTfffHMpRub/ynrtLpv/E8j51tvbGydOnIj6+voh6/X19dHT0zPiOT09PSMef/z48ejt7Y3JkyeP2rzl7Fz24g/94Ac/iLfffjtuvfXW0RgxjXPZi9/85jexcuXK2L59e1RW+k/O+XIue7F///7YsWNH1NTUxLPPPhu9vb3xta99Ld544w0/B/ghnct+NDY2xqZNm2LJkiXx+9//Po4fPx5f+tKX4kc/+lEpRub/ynrtdgfwA1RUVAx5XhTFsLUPOn6kdc7e2e7FKU8++WR85zvfic2bN8dll102WuOlcqZ7ceLEibjttttizZo1cfXVV5dqvFTO5vvi5MmTUVFREZs2bYp58+bFTTfdFA8++GA8/vjj7gKeJ2ezH3v37o1ly5bF/fffHx0dHfHCCy/EgQMHBv8f9pROxmu3v46fxqRJk2L8+PHD/uZ2+PDhYX9TOOXyyy8f8fjKysqYOHHiqM1a7s5lL07ZvHlz3H333bFly5a4/vrrR3PMFM52L44ePRq7d++Ozs7O+MY3vhER70VIURRRWVkZW7dujeuuu64ks5ebc/m+mDx5clxxxRVRV1c3uDZr1qwoiiIOHToUV1111ajOXM7OZT9aW1vj2muvjW9+85sREfGnf/qncckll8TChQvju9/9btneebrQZL12uwN4GlVVVdHQ0BDt7e1D1tvb26OxsXHEcxYsWDDs+K1bt8bcuXNjwoQJozZruTuXvYh4787fnXfeGU888YSfqTlPznYvamtr41e/+lXs2bNn8NHc3Byf+tSnYs+ePTF//vxSjV52zuX74tprr43XXnst3nrrrcG1l19+OcaNGxdTp04d1XnL3bnsxzvvvBPjxg29DI8fPz4i/t8dKEZf2mv3GP3yyUfCqV/p37BhQ7F3795i+fLlxSWXXFL87//+b1EURbFy5cri9ttvHzz+1K+Sr1ixoti7d2+xYcOGFL9KXgpnuxdPPPFEUVlZWTz88MNFd3f34OPNN98cq5dQNs52L/6Q3wI+f852L44ePVpMnTq1+Ku/+qvi17/+dbFt27biqquuKu65556xegll5Wz347HHHisqKyuLdevWFa+88kqxY8eOYu7cucW8efPG6iWUhaNHjxadnZ1FZ2dnERHFgw8+WHR2dg5+HI9r93sE4Ad4+OGHi+nTpxdVVVXFnDlzim3btg3+szvuuKP4whe+MOT4f//3fy/+7M/+rKiqqio+8YlPFOvXry/xxOXrbPbiC1/4QhERwx533HFH6QcvQ2f7ffH/E4Dn19nuxb59+4rrr7++uOiii4qpU6cWLS0txTvvvFPiqcvX2e7HQw89VHzmM58pLrroomLy5MnFX//1XxeHDh0q8dTl5d/+7d/e97//rt3vqSgK95kBADLxM4AAAMkIQACAZAQgAEAyAhAAIBkBCACQjAAEAEhGAAIAJCMAAQCSEYAAAMkIQACAZAQgAEAyAhAAIBkBCACQjAAEAEhGAAIAJCMAAQCSEYAAAMkIQACAZAQgAEAyAhAAIBkBCACQjAAEAEhGAAIAJCMAAQCSEYAAAMkIQACAZAQgAEAyAhAAIBkBCACQjAAEAEhGAAIAJPN/AHqFQA810DGSAAAAAElFTkSuQmCC' width=640.0/>\n",
       "            </div>\n",
       "        "
      ],
      "text/plain": [
       "Canvas(toolbar=Toolbar(toolitems=[('Home', 'Reset original view', 'home', 'home'), ('Back', 'Back to previous …"
      ]
     },
     "metadata": {},
     "output_type": "display_data"
    }
   ],
   "source": [
    "df = []\n",
    "def identifyValues(df):\n",
    "    diffThreshold = 50\n",
    "    maxValue = 900\n",
    "    noiseValues = 530\n",
    "    sen2 = df[(abs(df['sensor_1']-df['sensor_3'])<diffThreshold) & (df['sensor_2']<maxValue) & (df['sensor_1']>noiseLevel)]\n",
    "\n",
    "    sen3 = df[(abs(df['sensor_2']-df['sensor_4'])<diffThreshold) & (df['sensor_3']<maxValue)&(df['sensor_2']> noiseLevel) ] \n",
    "    \n",
    "    sen4 = df[(abs(df['sensor_3']-df['sensor_5'])<diffThreshold) & (df['sensor_4']<maxValue)&(df['sensor_3']>noiseLevel)]\n",
    "    sen5 = df[(abs(df['sensor_4']-df['sensor_6'])<diffThreshold) & (df['sensor_5']<maxValue)& (df['sensor_4']>noiseLevel)]\n",
    "    sen6 = df[(abs(df['sensor_5']-df['sensor_7'])<diffThreshold) & (df['sensor_6']<maxValue)& (df['sensor_5']>noiseLevel)]\n",
    "    sen7 = df[(abs(df['sensor_6']-df['sensor_8'])<diffThreshold) & (df['sensor_7']<maxValue)&(df['sensor_6']>noiseLevel)]\n",
    "    #collection of sensorvalues that should be incorrect. \n",
    "    index = []\n",
    "    for x in sen2.index: index.append(x)\n",
    "    for x in sen3.index: index.append(x)\n",
    "    for x in sen4.index: index.append(x)\n",
    "    for x in sen5.index: index.append(x)\n",
    "    for x in sen6.index: index.append(x)\n",
    "    for x in sen7.index: index.append(x)\n",
    "    index.sort()\n",
    "    \n",
    "    #values where bracelet removed\n",
    "    remIndex = []\n",
    "    #sould be continious\n",
    "    removedValues = df[(df['sensor_1']> 600) & (df['sensor_2'] == 1020) & (df['sensor_3']<600)] #used after the roc to verify its at minimum dist\n",
    "    #calculate roc for all sensors, add together\n",
    "    for x in removedValues.index: remIndex.append(x)\n",
    "    remIndex.sort()\n",
    "    indexes = [index,remIndex]\n",
    "    return indexes\n",
    "#ncoull values, \n",
    "\n",
    "#test_dataset = pd.read_csv('ali_test\\\\test_dataset_8.csv')\n",
    "test_dataset = pd.read_csv('ali_test\\\\test_data_file_10.csv')\n",
    "t = []\n",
    "\n",
    "\n",
    "\n",
    "fig2,ax2 = plt.subplots()\n",
    "test_dataset.head()\n",
    "index = identifyValues(test_dataset)\n",
    "print(len(index[0]))\n",
    "print(len(index[1]))\n",
    "percentage = (len(index[0]) * 100) /len(test_dataset.index)\n",
    "percentage\n",
    "test_dataset.head()\n",
    "print(percentage)\n",
    "percentage = (len(index[1])*100)/ len(test_dataset.index)\n",
    "print(percentage)"
   ]
  },
  {
   "cell_type": "code",
   "execution_count": null,
   "id": "b761add4",
   "metadata": {},
   "outputs": [],
   "source": [
    "def findRemoved():\n",
    "    #values where braclet is removed\n",
    "    "
   ]
  }
 ],
 "metadata": {
  "kernelspec": {
   "display_name": "Python 3 (ipykernel)",
   "language": "python",
   "name": "python3"
  },
  "language_info": {
   "codemirror_mode": {
    "name": "ipython",
    "version": 3
   },
   "file_extension": ".py",
   "mimetype": "text/x-python",
   "name": "python",
   "nbconvert_exporter": "python",
   "pygments_lexer": "ipython3",
   "version": "3.8.8"
  }
 },
 "nbformat": 4,
 "nbformat_minor": 5
}
